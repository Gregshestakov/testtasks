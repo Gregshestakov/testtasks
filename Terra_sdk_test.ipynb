{
 "cells": [
  {
   "cell_type": "code",
   "execution_count": 37,
   "id": "c8b72cd2",
   "metadata": {},
   "outputs": [],
   "source": [
    "from terra_sdk.client.lcd import LCDClient\n",
    "terra=LCDClient('https://lcd.terra.dev', 'columbus-4')"
   ]
  },
  {
   "cell_type": "code",
   "execution_count": 46,
   "id": "f5ba798b",
   "metadata": {},
   "outputs": [],
   "source": [
    "from terra_sdk.key.mnemonic import MnemonicKey\n",
    "from terra_sdk.client.lcd.api.auth import AuthAPI\n",
    "from terra_sdk.client.lcd.api.distribution import DistributionAPI\n",
    "from terra_sdk.client.lcd.api.staking import StakingAPI\n",
    "from terra_sdk.client.lcd.api.supply import SupplyAPI"
   ]
  },
  {
   "cell_type": "code",
   "execution_count": 58,
   "id": "ec0cad6e",
   "metadata": {},
   "outputs": [],
   "source": [
    "st = StakingAPI(terra)"
   ]
  },
  {
   "cell_type": "code",
   "execution_count": 60,
   "id": "6d931f7b",
   "metadata": {},
   "outputs": [
    {
     "data": {
      "text/plain": [
       "StakingPool(bonded_tokens=Coin(denom='uluna', amount=335525934684360), not_bonded_tokens=Coin(denom='uluna', amount=28338078630814))"
      ]
     },
     "execution_count": 60,
     "metadata": {},
     "output_type": "execute_result"
    }
   ],
   "source": [
    "st.pool()"
   ]
  },
  {
   "cell_type": "code",
   "execution_count": 65,
   "id": "48196c36",
   "metadata": {},
   "outputs": [
    {
     "data": {
      "text/plain": [
       "Coins()"
      ]
     },
     "execution_count": 65,
     "metadata": {},
     "output_type": "execute_result"
    }
   ],
   "source": [
    "terra.bank.balance('terra10cxuzggyvvv44magvrh3thpdnk9cmlgk93gmx2')"
   ]
  },
  {
   "cell_type": "code",
   "execution_count": 63,
   "id": "4522f937",
   "metadata": {},
   "outputs": [],
   "source": [
    "supply = SupplyAPI(terra)"
   ]
  },
  {
   "cell_type": "code",
   "execution_count": 64,
   "id": "aaf6dacc",
   "metadata": {},
   "outputs": [
    {
     "data": {
      "text/plain": [
       "Coins('2000216608uaud,187225080ucad,1920757197uchf,6557639444ucny,3816793361udkk,16228290622ueur,1001934454ugbp,434656075uhkd,44589587006uinr,87847224144ujpy,42967394330474419ukrw,994745857684221uluna,2822621618533160umnt,42813504unok,712179183961353usdr,5851797025usek,48272211usgd,14814427537uthb,2639217893931537uusd')"
      ]
     },
     "execution_count": 64,
     "metadata": {},
     "output_type": "execute_result"
    }
   ],
   "source": [
    "supply.total()"
   ]
  },
  {
   "cell_type": "code",
   "execution_count": null,
   "id": "e409b4c0",
   "metadata": {},
   "outputs": [],
   "source": []
  }
 ],
 "metadata": {
  "kernelspec": {
   "display_name": "Python 3 (ipykernel)",
   "language": "python",
   "name": "python3"
  },
  "language_info": {
   "codemirror_mode": {
    "name": "ipython",
    "version": 3
   },
   "file_extension": ".py",
   "mimetype": "text/x-python",
   "name": "python",
   "nbconvert_exporter": "python",
   "pygments_lexer": "ipython3",
   "version": "3.9.2"
  }
 },
 "nbformat": 4,
 "nbformat_minor": 5
}
