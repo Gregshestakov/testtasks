{
 "cells": [
  {
   "cell_type": "code",
   "execution_count": 3,
   "id": "c8b72cd2",
   "metadata": {},
   "outputs": [],
   "source": [
    "from terra_sdk.client.lcd import LCDClient\n",
    "terra=LCDClient('https://lcd.terra.dev', 'columbus-4')"
   ]
  },
  {
   "cell_type": "code",
   "execution_count": 4,
   "id": "f5ba798b",
   "metadata": {},
   "outputs": [],
   "source": [
    "from terra_sdk.key.mnemonic import MnemonicKey\n",
    "from terra_sdk.client.lcd.api.auth import AuthAPI\n",
    "from terra_sdk.client.lcd.api.distribution import DistributionAPI\n",
    "from terra_sdk.client.lcd.api.staking import StakingAPI\n",
    "from terra_sdk.client.lcd.api.supply import SupplyAPI\n",
    "from terra_sdk.client.lcd.api.wasm import WasmAPI"
   ]
  },
  {
   "cell_type": "code",
   "execution_count": 5,
   "id": "ec0cad6e",
   "metadata": {},
   "outputs": [],
   "source": [
    "st = StakingAPI(terra)"
   ]
  },
  {
   "cell_type": "code",
   "execution_count": 6,
   "id": "6d931f7b",
   "metadata": {},
   "outputs": [
    {
     "data": {
      "text/plain": [
       "StakingPool(bonded_tokens=Coin(denom='uluna', amount=335564227416573), not_bonded_tokens=Coin(denom='uluna', amount=28329849645566))"
      ]
     },
     "execution_count": 6,
     "metadata": {},
     "output_type": "execute_result"
    }
   ],
   "source": [
    "st.pool()"
   ]
  },
  {
   "cell_type": "code",
   "execution_count": 7,
   "id": "48196c36",
   "metadata": {},
   "outputs": [
    {
     "data": {
      "text/plain": [
       "Coins()"
      ]
     },
     "execution_count": 7,
     "metadata": {},
     "output_type": "execute_result"
    }
   ],
   "source": [
    "terra.bank.balance('terra10cxuzggyvvv44magvrh3thpdnk9cmlgk93gmx2')"
   ]
  },
  {
   "cell_type": "code",
   "execution_count": 8,
   "id": "4522f937",
   "metadata": {},
   "outputs": [],
   "source": [
    "supply = SupplyAPI(terra)"
   ]
  },
  {
   "cell_type": "code",
   "execution_count": 64,
   "id": "aaf6dacc",
   "metadata": {},
   "outputs": [
    {
     "data": {
      "text/plain": [
       "Coins('2000216608uaud,187225080ucad,1920757197uchf,6557639444ucny,3816793361udkk,16228290622ueur,1001934454ugbp,434656075uhkd,44589587006uinr,87847224144ujpy,42967394330474419ukrw,994745857684221uluna,2822621618533160umnt,42813504unok,712179183961353usdr,5851797025usek,48272211usgd,14814427537uthb,2639217893931537uusd')"
      ]
     },
     "execution_count": 64,
     "metadata": {},
     "output_type": "execute_result"
    }
   ],
   "source": [
    "supply.total()"
   ]
  },
  {
   "cell_type": "code",
   "execution_count": 9,
   "id": "e409b4c0",
   "metadata": {},
   "outputs": [],
   "source": [
    "query = WasmAPI(terra)"
   ]
  },
  {
   "cell_type": "code",
   "execution_count": 10,
   "id": "1678a3d6",
   "metadata": {},
   "outputs": [
    {
     "data": {
      "text/plain": [
       "{'borrower_infos': [{'borrower': 'terra1qqqz5f2l5epfft7l08wvp8qddhtapk437fy07t',\n",
       "   'interest_index': '1.106383175252480526',\n",
       "   'reward_index': '0.207801742923728268',\n",
       "   'loan_amount': '0',\n",
       "   'pending_rewards': '0.112848527478418969'},\n",
       "  {'borrower': 'terra1qqrqtl8uvn7mfre0vxdxvczjv663zmc9q9g363',\n",
       "   'interest_index': '1.125206805269284514',\n",
       "   'reward_index': '0.21683938514258825',\n",
       "   'loan_amount': '304',\n",
       "   'pending_rewards': '15989.631843016303236341'},\n",
       "  {'borrower': 'terra1qq8xq768s79al0espc9l68pza2gty67jl9lfsy',\n",
       "   'interest_index': '1.041959568524155932',\n",
       "   'reward_index': '0.049223917021743949',\n",
       "   'loan_amount': '0',\n",
       "   'pending_rewards': '0.449005038916826218'},\n",
       "  {'borrower': 'terra1qq8x3ufxkk8lxwq93zp37qlcmeqm7fyv442qus',\n",
       "   'interest_index': '1.120050437476530595',\n",
       "   'reward_index': '0.214545643019758744',\n",
       "   'loan_amount': '0',\n",
       "   'pending_rewards': '373574.464326312804970912'},\n",
       "  {'borrower': 'terra1qq8k59w5erp56xemr2qmxy8jys77r3wmnk4phx',\n",
       "   'interest_index': '1.103586278837365655',\n",
       "   'reward_index': '0.206425926128319495',\n",
       "   'loan_amount': '50000000',\n",
       "   'pending_rewards': '0'},\n",
       "  {'borrower': 'terra1qqd04e9fte2sshm3uy7q5sux6wm34hyguprjtl',\n",
       "   'interest_index': '1.027456486625399572',\n",
       "   'reward_index': '0.042227486973881974',\n",
       "   'loan_amount': '0',\n",
       "   'pending_rewards': '923985.091316636396937299'},\n",
       "  {'borrower': 'terra1qq0pm5wgdnanwzldt3seng0tw4yvz569l3d2hv',\n",
       "   'interest_index': '1.082724652806285679',\n",
       "   'reward_index': '0.167520195109880719',\n",
       "   'loan_amount': '913',\n",
       "   'pending_rewards': '1524394.921527547251317647'},\n",
       "  {'borrower': 'terra1qqj02enhq8ved0un4jp2mx09qghpxvu6yvgvaa',\n",
       "   'interest_index': '1.128033197537235052',\n",
       "   'reward_index': '0.218126651795064104',\n",
       "   'loan_amount': '0',\n",
       "   'pending_rewards': '3633999.423141544371807559'},\n",
       "  {'borrower': 'terra1qqnakv6hd2jdtaykza298kqsahnwys5uvrlkd7',\n",
       "   'interest_index': '1.128052555898113546',\n",
       "   'reward_index': '0.218138993334127019',\n",
       "   'loan_amount': '10113578013',\n",
       "   'pending_rewards': '22287244.437698490669312723'},\n",
       "  {'borrower': 'terra1qq5xwmkyxnjpjmvyhldhe405e2hhfl55weza8g',\n",
       "   'interest_index': '1.060542940615812947',\n",
       "   'reward_index': '0.061330202976455848',\n",
       "   'loan_amount': '176235',\n",
       "   'pending_rewards': '231179.089876155832541761'}]}"
      ]
     },
     "execution_count": 10,
     "metadata": {},
     "output_type": "execute_result"
    }
   ],
   "source": [
    "query.contract_query('terra1sepfj7s0aeg5967uxnfk4thzlerrsktkpelm5s',{\"borrower_infos\":{}})"
   ]
  },
  {
   "cell_type": "code",
   "execution_count": 13,
   "id": "e9464b58",
   "metadata": {},
   "outputs": [
    {
     "data": {
      "text/plain": [
       "{'borrower_infos': [{'borrower': 'terra1qphn0fyd52py4z4ql0euu3sm4u9f7ry3tmxu4l',\n",
       "   'interest_index': '1.036033041285760521',\n",
       "   'reward_index': '0.04691651120232767',\n",
       "   'loan_amount': '0',\n",
       "   'pending_rewards': '294.051646889850824077'},\n",
       "  {'borrower': 'terra1qph7wsnpd6ttsfzwsch96nxd66ude7wzrfj2cx',\n",
       "   'interest_index': '1.024258173015312176',\n",
       "   'reward_index': '0.040463122476257736',\n",
       "   'loan_amount': '0',\n",
       "   'pending_rewards': '7749360.910050383738673032'},\n",
       "  {'borrower': 'terra1qpc6acylhztez295qt0dm9nky456wzn92fesmn',\n",
       "   'interest_index': '1.122953853848526646',\n",
       "   'reward_index': '0.215899712116818938',\n",
       "   'loan_amount': '352627887',\n",
       "   'pending_rewards': '172365.095025958118869434'},\n",
       "  {'borrower': 'terra1qpevp2a0gt6hvg0ysc5u5ausk972euthjmphld',\n",
       "   'interest_index': '1.062501856310435336',\n",
       "   'reward_index': '0.072197518590460279',\n",
       "   'loan_amount': '0',\n",
       "   'pending_rewards': '228866.878791197047339252'},\n",
       "  {'borrower': 'terra1qpuhkvgjkxdpvcu37feeexysfa0ltmgx5nvu5z',\n",
       "   'interest_index': '1.125291778786421407',\n",
       "   'reward_index': '0.21687406965771961',\n",
       "   'loan_amount': '951525049',\n",
       "   'pending_rewards': '3205943.837028124890706794'},\n",
       "  {'borrower': 'terra1qzqckqly4q0xnfx9vyp02pq7ere53rd7gxtyn8',\n",
       "   'interest_index': '1.079117311089847626',\n",
       "   'reward_index': '0.155323692450952894',\n",
       "   'loan_amount': '106',\n",
       "   'pending_rewards': '4543.920653196914515513'},\n",
       "  {'borrower': 'terra1qzpzdnwfp7hrt6l73n6pq2v9zd9rfhmtjkl8ng',\n",
       "   'interest_index': '1.128336537037892417',\n",
       "   'reward_index': '0.218313882271118605',\n",
       "   'loan_amount': '43426089456',\n",
       "   'pending_rewards': '0.088460741250377144'},\n",
       "  {'borrower': 'terra1qzpt9mzkkcfdarddalvrjxk52cjcegmlp9p3mx',\n",
       "   'interest_index': '1.0353066376853822',\n",
       "   'reward_index': '0.046634417445164396',\n",
       "   'loan_amount': '0',\n",
       "   'pending_rewards': '8054.182701579643121196'},\n",
       "  {'borrower': 'terra1qzzv6zlshk49py0353zt5te6dkd37pe0g4p4s9',\n",
       "   'interest_index': '1.114550882316904612',\n",
       "   'reward_index': '0.211612262468035256',\n",
       "   'loan_amount': '44580119',\n",
       "   'pending_rewards': '720411.222731249298844934'},\n",
       "  {'borrower': 'terra1qzrrwd9vvv3rtj7vwlcnwp90qd8lfr0xgwjp08',\n",
       "   'interest_index': '1.116577722948225873',\n",
       "   'reward_index': '0.212552514820547817',\n",
       "   'loan_amount': '828',\n",
       "   'pending_rewards': '77097.676182713489822301'},\n",
       "  {'borrower': 'terra1qzrt4xg05h5e26a88ezc6fvewa7h37henht4jg',\n",
       "   'interest_index': '1.127684761179940701',\n",
       "   'reward_index': '0.217915042963371082',\n",
       "   'loan_amount': '12920720150',\n",
       "   'pending_rewards': '33728364.105213938128168989'},\n",
       "  {'borrower': 'terra1qzgxrsjg67esc3h2q8felmwt63qlzkqeklf25d',\n",
       "   'interest_index': '1.124714756235647928',\n",
       "   'reward_index': '0.216638520464111382',\n",
       "   'loan_amount': '6140713020',\n",
       "   'pending_rewards': '34846.359387408212282345'},\n",
       "  {'borrower': 'terra1qzf5rt0mvjuqqx4y5xa5spyjuny6mcu35nv9rs',\n",
       "   'interest_index': '1.100604310410505251',\n",
       "   'reward_index': '0.204631710400989325',\n",
       "   'loan_amount': '0',\n",
       "   'pending_rewards': '0.747965963973034749'},\n",
       "  {'borrower': 'terra1qzf5xh4hy24jmc46senjwnw2z40lq5c897ud4g',\n",
       "   'interest_index': '1.128250437743998358',\n",
       "   'reward_index': '0.218262030030729492',\n",
       "   'loan_amount': '1298259109',\n",
       "   'pending_rewards': '238018.270990671610138621'},\n",
       "  {'borrower': 'terra1qz2ppy806htm35kzhmktaxdgkxykh7qx0krghw',\n",
       "   'interest_index': '1.066696874922221009',\n",
       "   'reward_index': '0.093609648521160214',\n",
       "   'loan_amount': '1050',\n",
       "   'pending_rewards': '0.372678867274886144'},\n",
       "  {'borrower': 'terra1qz28vjx57ewk397gkssxdp0ldec9yy6n9s0p6g',\n",
       "   'interest_index': '1.089455027843251854',\n",
       "   'reward_index': '0.19098154404768672',\n",
       "   'loan_amount': '0',\n",
       "   'pending_rewards': '0.870690022145992313'},\n",
       "  {'borrower': 'terra1qzt9gqg4le8cwkc5jahqaq70pe0y9dfsj8063y',\n",
       "   'interest_index': '1.122200631991301507',\n",
       "   'reward_index': '0.215562997861564985',\n",
       "   'loan_amount': '8317002663',\n",
       "   'pending_rewards': '0.403785535760032205'},\n",
       "  {'borrower': 'terra1qzt7w86qxy9fgf7x4n74aunj7rm6ks66mrque2',\n",
       "   'interest_index': '1.051969839049707702',\n",
       "   'reward_index': '0.052742013225653144',\n",
       "   'loan_amount': '0',\n",
       "   'pending_rewards': '888375.71630332850674992'},\n",
       "  {'borrower': 'terra1qzvadvq3esl8w6pzqt2d3wrjn9ntmrcmy09hgr',\n",
       "   'interest_index': '1.125232822383395198',\n",
       "   'reward_index': '0.216849993816368981',\n",
       "   'loan_amount': '523293087',\n",
       "   'pending_rewards': '0.23845971041350742'},\n",
       "  {'borrower': 'terra1qzdt76qp2krswjqjlasmygxrg2txy8r2uk9c7f',\n",
       "   'interest_index': '1.104632584473009027',\n",
       "   'reward_index': '0.206929595047752356',\n",
       "   'loan_amount': '8671568',\n",
       "   'pending_rewards': '28097.185588672865042946'},\n",
       "  {'borrower': 'terra1qzdc8c9xu74takukxtltarrq56chu394edc3pl',\n",
       "   'interest_index': '1.087484887357284132',\n",
       "   'reward_index': '0.186299723267918751',\n",
       "   'loan_amount': '0',\n",
       "   'pending_rewards': '0.588802503675136666'},\n",
       "  {'borrower': 'terra1qzsgrcch02lvqftrsckgfn9pwxslcat6raeuya',\n",
       "   'interest_index': '1.049792807084332931',\n",
       "   'reward_index': '0.051936362822801522',\n",
       "   'loan_amount': '0',\n",
       "   'pending_rewards': '0.708902996686380418'},\n",
       "  {'borrower': 'terra1qz3v4gxq2e8xajn8hukp27m53t57868096tpvy',\n",
       "   'interest_index': '1.12325324077992339',\n",
       "   'reward_index': '0.21602939363876133',\n",
       "   'loan_amount': '1165508269',\n",
       "   'pending_rewards': '0.310345705540025997'},\n",
       "  {'borrower': 'terra1qzj4sx7rvs4gyjctdkmgpr2zllchh74zks0am2',\n",
       "   'interest_index': '1.126595683516345437',\n",
       "   'reward_index': '0.217429599846320208',\n",
       "   'loan_amount': '2756237288',\n",
       "   'pending_rewards': '0.558922958570233565'},\n",
       "  {'borrower': 'terra1qznals78nwkwv3ex2rhd934pykq79h56y94pu2',\n",
       "   'interest_index': '1.088489996486350681',\n",
       "   'reward_index': '0.1888576306237336',\n",
       "   'loan_amount': '0',\n",
       "   'pending_rewards': '0.505072351531118098'},\n",
       "  {'borrower': 'terra1qz5na4hvfnw0w8emxlx00q9rhcccud7zdkxgxw',\n",
       "   'interest_index': '1.084683034951633793',\n",
       "   'reward_index': '0.17431168138970638',\n",
       "   'loan_amount': '0',\n",
       "   'pending_rewards': '0.154156523629148752'},\n",
       "  {'borrower': 'terra1qz5aw52w2g2qcsz3awadtz9tmyuqnj692wyp7x',\n",
       "   'interest_index': '1.12749097736513088',\n",
       "   'reward_index': '0.217818027828061834',\n",
       "   'loan_amount': '12797091712',\n",
       "   'pending_rewards': '15768220.643280639042019126'},\n",
       "  {'borrower': 'terra1qze8c67dtca9re4myefywrgyt8mqcxlte53ce4',\n",
       "   'interest_index': '1.11814864988321352',\n",
       "   'reward_index': '0.213275698004296628',\n",
       "   'loan_amount': '110391684',\n",
       "   'pending_rewards': '181065.488958499860531953'},\n",
       "  {'borrower': 'terra1qz6z8e2gvwvaq5nw5qervphunsdfs8ss60mg06',\n",
       "   'interest_index': '1.102921800172790224',\n",
       "   'reward_index': '0.206105550690298031',\n",
       "   'loan_amount': '0',\n",
       "   'pending_rewards': '0.107346804762924175'},\n",
       "  {'borrower': 'terra1qzm8aygwenqdehjgeefsh76l7fmen4y9fdvntn',\n",
       "   'interest_index': '1.122075263980062804',\n",
       "   'reward_index': '0.215507394039703874',\n",
       "   'loan_amount': '9864763362',\n",
       "   'pending_rewards': '139627.78090436149205795'}]}"
      ]
     },
     "execution_count": 13,
     "metadata": {},
     "output_type": "execute_result"
    }
   ],
   "source": [
    "query.contract_query('terra1sepfj7s0aeg5967uxnfk4thzlerrsktkpelm5s',{\"borrower_infos\":{\"start_after\": \"terra1qp4eqnhkk27s7psqfnsx2fmzhy6e9u549hmc02\", \n",
    "    \"limit\": 1000}})"
   ]
  },
  {
   "cell_type": "code",
   "execution_count": 17,
   "id": "35ca4b22",
   "metadata": {},
   "outputs": [
    {
     "data": {
      "text/plain": [
       "30"
      ]
     },
     "execution_count": 17,
     "metadata": {},
     "output_type": "execute_result"
    }
   ],
   "source": [
    "len(query.contract_query('terra1sepfj7s0aeg5967uxnfk4thzlerrsktkpelm5s',{\"borrower_infos\":{\"start_after\": \"terra1qp4eqnhkk27s7psqfnsx2fmzhy6e9u549hmc02\",\n",
    "    \"limit\": 1000}})['borrower_infos'])"
   ]
  },
  {
   "cell_type": "markdown",
   "id": "bdda8e5d",
   "metadata": {},
   "source": [
    "грузим пачками по 30 чувачков пока не даст пустой массив, из предудущей есть лоан амаунт, а в следущей узнаем остальное говно!!"
   ]
  },
  {
   "cell_type": "code",
   "execution_count": 18,
   "id": "6134db4f",
   "metadata": {},
   "outputs": [
    {
     "data": {
      "text/plain": [
       "{'borrower': 'terra1qzm8aygwenqdehjgeefsh76l7fmen4y9fdvntn',\n",
       " 'collaterals': [['terra1dzhzukyezv0etz22ud940z7adyv7xgcjkahuun', '11317211'],\n",
       "  ['terra1kc87mu460fwkqte29rquh4hc20m54fxwtsx7gp', '106297551']]}"
      ]
     },
     "execution_count": 18,
     "metadata": {},
     "output_type": "execute_result"
    }
   ],
   "source": [
    "query.contract_query('terra1tmnqgvg567ypvsvk6rwsga3srp7e3lg6u0elp8',{ \"collaterals\": { \"borrower\": \"terra1qzm8aygwenqdehjgeefsh76l7fmen4y9fdvntn\"}})"
   ]
  },
  {
   "cell_type": "code",
   "execution_count": 19,
   "id": "f80cfe29",
   "metadata": {},
   "outputs": [
    {
     "data": {
      "text/plain": [
       "{'all_collaterals': [{'borrower': 'terra1qqrqtl8uvn7mfre0vxdxvczjv663zmc9q9g363',\n",
       "   'collaterals': [['terra1kc87mu460fwkqte29rquh4hc20m54fxwtsx7gp', '19']]},\n",
       "  {'borrower': 'terra1qq8k59w5erp56xemr2qmxy8jys77r3wmnk4phx',\n",
       "   'collaterals': [['terra1kc87mu460fwkqte29rquh4hc20m54fxwtsx7gp',\n",
       "     '4999964']]},\n",
       "  {'borrower': 'terra1qq0pm5wgdnanwzldt3seng0tw4yvz569l3d2hv',\n",
       "   'collaterals': [['terra1kc87mu460fwkqte29rquh4hc20m54fxwtsx7gp', '329']]},\n",
       "  {'borrower': 'terra1qqj02enhq8ved0un4jp2mx09qghpxvu6yvgvaa',\n",
       "   'collaterals': [['terra1kc87mu460fwkqte29rquh4hc20m54fxwtsx7gp',\n",
       "     '224398']]},\n",
       "  {'borrower': 'terra1qqnakv6hd2jdtaykza298kqsahnwys5uvrlkd7',\n",
       "   'collaterals': [['terra1dzhzukyezv0etz22ud940z7adyv7xgcjkahuun', '5099999'],\n",
       "    ['terra1kc87mu460fwkqte29rquh4hc20m54fxwtsx7gp', '277453628']]},\n",
       "  {'borrower': 'terra1qq5xwmkyxnjpjmvyhldhe405e2hhfl55weza8g',\n",
       "   'collaterals': [['terra1kc87mu460fwkqte29rquh4hc20m54fxwtsx7gp', '92611']]},\n",
       "  {'borrower': 'terra1qq48rhvh26t7mk8vpdz5ggw276zhws3xxal4jp',\n",
       "   'collaterals': [['terra1kc87mu460fwkqte29rquh4hc20m54fxwtsx7gp',\n",
       "     '142711309']]},\n",
       "  {'borrower': 'terra1qq4a9pwzxf28efmhg92r7qf9hjkmgwzmwchcuz',\n",
       "   'collaterals': [['terra1kc87mu460fwkqte29rquh4hc20m54fxwtsx7gp',\n",
       "     '1031243']]},\n",
       "  {'borrower': 'terra1qqk7709vjp3cf5zmhg2g8tkupx0xgetu505asx',\n",
       "   'collaterals': [['terra1kc87mu460fwkqte29rquh4hc20m54fxwtsx7gp',\n",
       "     '2237677548']]},\n",
       "  {'borrower': 'terra1qqh4u2ylhyegk20qqt6mvy2ffj6t8ha6e3mt4c',\n",
       "   'collaterals': [['terra1kc87mu460fwkqte29rquh4hc20m54fxwtsx7gp',\n",
       "     '318701317']]},\n",
       "  {'borrower': 'terra1qq6t4hscjvtuavag48zj296fs5gpnkzrk0hkx4',\n",
       "   'collaterals': [['terra1kc87mu460fwkqte29rquh4hc20m54fxwtsx7gp',\n",
       "     '9986253']]},\n",
       "  {'borrower': 'terra1qq65pz26ls3k360hnh364t7ymwkrs54tfud9pn',\n",
       "   'collaterals': [['terra1kc87mu460fwkqte29rquh4hc20m54fxwtsx7gp',\n",
       "     '7500000000']]},\n",
       "  {'borrower': 'terra1qqufqn64gl7cw0jvwvz47clql8xzyapv6r44s6',\n",
       "   'collaterals': [['terra1kc87mu460fwkqte29rquh4hc20m54fxwtsx7gp',\n",
       "     '187953311']]},\n",
       "  {'borrower': 'terra1qqu49hwplpv5h2unqhnwl3044hrzv4uhz3lqek',\n",
       "   'collaterals': [['terra1kc87mu460fwkqte29rquh4hc20m54fxwtsx7gp',\n",
       "     '3800000']]},\n",
       "  {'borrower': 'terra1qq7x4yz093u6z96q5gq8vmz42wuhf3584hlez5',\n",
       "   'collaterals': [['terra1dzhzukyezv0etz22ud940z7adyv7xgcjkahuun', '1989093'],\n",
       "    ['terra1kc87mu460fwkqte29rquh4hc20m54fxwtsx7gp', '888558219']]},\n",
       "  {'borrower': 'terra1qqlu8vm8da3fag0d8fmry324yp9m2vfc0u5y0c',\n",
       "   'collaterals': [['terra1kc87mu460fwkqte29rquh4hc20m54fxwtsx7gp',\n",
       "     '7788554']]},\n",
       "  {'borrower': 'terra1qpzncyyvx9dhey8cjuaknnt4auzkhmqp5waj2u',\n",
       "   'collaterals': [['terra1kc87mu460fwkqte29rquh4hc20m54fxwtsx7gp',\n",
       "     '443618300']]},\n",
       "  {'borrower': 'terra1qpzkx3gr86xwn69c5lx3mt6ynyem2mz348svrq',\n",
       "   'collaterals': [['terra1kc87mu460fwkqte29rquh4hc20m54fxwtsx7gp',\n",
       "     '859728181']]},\n",
       "  {'borrower': 'terra1qp846ztjramjg4cynq2js9hd9hx27dlum6uhr0',\n",
       "   'collaterals': [['terra1kc87mu460fwkqte29rquh4hc20m54fxwtsx7gp',\n",
       "     '158859287']]},\n",
       "  {'borrower': 'terra1qp29wgayadxvhrfld3wcfmmzyppzus8f0lql9x',\n",
       "   'collaterals': [['terra1kc87mu460fwkqte29rquh4hc20m54fxwtsx7gp', '155']]},\n",
       "  {'borrower': 'terra1qpwsdzelq2hj3mlxfatdcq2ptj0dshr02y96s3',\n",
       "   'collaterals': [['terra1dzhzukyezv0etz22ud940z7adyv7xgcjkahuun', '4999999'],\n",
       "    ['terra1kc87mu460fwkqte29rquh4hc20m54fxwtsx7gp', '433710983']]},\n",
       "  {'borrower': 'terra1qpsxy7dag5vq5u5wn6ymdaeu7xr2gujn0pmjj7',\n",
       "   'collaterals': [['terra1dzhzukyezv0etz22ud940z7adyv7xgcjkahuun', '500000'],\n",
       "    ['terra1kc87mu460fwkqte29rquh4hc20m54fxwtsx7gp', '80000000']]},\n",
       "  {'borrower': 'terra1qpsx8vs707pqeexcwxusgnxzfj65g49sv8exxw',\n",
       "   'collaterals': [['terra1kc87mu460fwkqte29rquh4hc20m54fxwtsx7gp',\n",
       "     '3581064362']]},\n",
       "  {'borrower': 'terra1qpjanzce36wk6xmy03653k78fru04vk4j28zmn',\n",
       "   'collaterals': [['terra1dzhzukyezv0etz22ud940z7adyv7xgcjkahuun',\n",
       "     '3019533']]},\n",
       "  {'borrower': 'terra1qp4eqnhkk27s7psqfnsx2fmzhy6e9u549hmc02',\n",
       "   'collaterals': [['terra1kc87mu460fwkqte29rquh4hc20m54fxwtsx7gp',\n",
       "     '8489234251']]},\n",
       "  {'borrower': 'terra1qpc6acylhztez295qt0dm9nky456wzn92fesmn',\n",
       "   'collaterals': [['terra1kc87mu460fwkqte29rquh4hc20m54fxwtsx7gp',\n",
       "     '33298681']]},\n",
       "  {'borrower': 'terra1qperxtwcu7r0sjnlfmt2hz5ehl5l72993ncvud',\n",
       "   'collaterals': [['terra1kc87mu460fwkqte29rquh4hc20m54fxwtsx7gp',\n",
       "     '504519']]},\n",
       "  {'borrower': 'terra1qpevp2a0gt6hvg0ysc5u5ausk972euthjmphld',\n",
       "   'collaterals': [['terra1kc87mu460fwkqte29rquh4hc20m54fxwtsx7gp',\n",
       "     '32999782']]},\n",
       "  {'borrower': 'terra1qpuhkvgjkxdpvcu37feeexysfa0ltmgx5nvu5z',\n",
       "   'collaterals': [['terra1kc87mu460fwkqte29rquh4hc20m54fxwtsx7gp',\n",
       "     '81803264']]},\n",
       "  {'borrower': 'terra1qzqckqly4q0xnfx9vyp02pq7ere53rd7gxtyn8',\n",
       "   'collaterals': [['terra1kc87mu460fwkqte29rquh4hc20m54fxwtsx7gp', '37']]}]}"
      ]
     },
     "execution_count": 19,
     "metadata": {},
     "output_type": "execute_result"
    }
   ],
   "source": [
    "query.contract_query('terra1tmnqgvg567ypvsvk6rwsga3srp7e3lg6u0elp8',{\"all_collaterals\": { 'limit':30 }})"
   ]
  },
  {
   "cell_type": "code",
   "execution_count": null,
   "id": "21469c46",
   "metadata": {},
   "outputs": [],
   "source": []
  }
 ],
 "metadata": {
  "kernelspec": {
   "display_name": "Python 3 (ipykernel)",
   "language": "python",
   "name": "python3"
  },
  "language_info": {
   "codemirror_mode": {
    "name": "ipython",
    "version": 3
   },
   "file_extension": ".py",
   "mimetype": "text/x-python",
   "name": "python",
   "nbconvert_exporter": "python",
   "pygments_lexer": "ipython3",
   "version": "3.9.2"
  }
 },
 "nbformat": 4,
 "nbformat_minor": 5
}
