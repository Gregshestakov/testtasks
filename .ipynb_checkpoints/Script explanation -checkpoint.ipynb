{
 "cells": [
  {
   "cell_type": "code",
   "execution_count": 1,
   "id": "113be0b1",
   "metadata": {},
   "outputs": [],
   "source": [
    "from terra_sdk.client.lcd import LCDClient\n",
    "from terra_sdk.client.lcd.api.wasm import WasmAPI\n",
    "import pandas as pd \n",
    "import numpy as np"
   ]
  },
  {
   "cell_type": "markdown",
   "id": "58783865",
   "metadata": {},
   "source": [
    "Настраиваем подключение к terra и создаем глобальные переменные "
   ]
  },
  {
   "cell_type": "code",
   "execution_count": 2,
   "id": "e409b4c0",
   "metadata": {},
   "outputs": [],
   "source": [
    "terra=LCDClient('https://lcd.terra.dev', 'columbus-4')\n",
    "query = WasmAPI(terra)\n",
    "ANCHOR_MARKET='terra1sepfj7s0aeg5967uxnfk4thzlerrsktkpelm5s'\n",
    "ANCHOR_OVERSEER='terra1tmnqgvg567ypvsvk6rwsga3srp7e3lg6u0elp8'"
   ]
  },
  {
   "cell_type": "markdown",
   "id": "dd461cef",
   "metadata": {},
   "source": [
    "Далее формируем листы залогов и заемов, так как информация о заёмах находится в Market, а о залогах в Overseer, приходится делать 2 разных массива. API может отдать максимум 30 кошельков за раз (по умолчанию выдает 10), но при этом можно указать номер кошелька с которого необходимо начать выдачу, поэтому пришлось делать следующее:\n",
    "\n",
    "1. Без уточнения \"start_after\" получаем первые 10 кошельков\n",
    "2. Далее создаем цикл, который берет последний ключ кошелька на предыдущей итерации и вставляет его в новую\n",
    "3. Цикл продолжается до тех пор, пока API отдает 10 ключей \n",
    "\n",
    "На этом шаге создается будущий лист заемов а так же вручную прописывается первая итерация, с которой в последствии начнет работу цикл:"
   ]
  },
  {
   "cell_type": "code",
   "execution_count": 3,
   "id": "1678a3d6",
   "metadata": {},
   "outputs": [],
   "source": [
    "initial_loan_query = query.contract_query(ANCHOR_MARKET,{\"borrower_infos\":{}})['borrower_infos']\n",
    "loans_list=[]\n",
    "for x in range(len(initial_loan_query)):\n",
    "    loans_list.append({'wallet_id':initial_loan_query[x]['borrower'],'UST_loan':initial_loan_query[x]['loan_amount']})\n"
   ]
  },
  {
   "cell_type": "markdown",
   "id": "e7b32543",
   "metadata": {},
   "source": [
    "И затем начинаем прогонять все по циклу пока не получим информацию о каждом заёме. \n",
    "\n",
    "*В ноутбуке для ускорения работы количество итераций ограничено переменной counter*"
   ]
  },
  {
   "cell_type": "code",
   "execution_count": 4,
   "id": "e9464b58",
   "metadata": {
    "scrolled": true
   },
   "outputs": [],
   "source": [
    "support_cycle_loan_query = initial_loan_query\n",
    "counter = 0\n",
    "#Чтобы получить все заёмы в следущей строчке надо поставить в условие while len(support_cycle_loan_query) == 10\n",
    "while counter < 100:\n",
    "    cycle_loan_query=query.contract_query(ANCHOR_MARKET,{\"borrower_infos\":{\"start_after\":support_cycle_loan_query[9]['borrower']}})['borrower_infos']\n",
    "    for x in range(len(cycle_loan_query)):\n",
    "        loans_list.append({'wallet_id': cycle_loan_query[x]['borrower'],'UST_loan': cycle_loan_query[x]['loan_amount']})\n",
    "    support_cycle_loan_query=cycle_loan_query\n",
    "    counter+= 1\n",
    "  \n",
    "    \n"
   ]
  },
  {
   "cell_type": "markdown",
   "id": "2b531c60",
   "metadata": {},
   "source": [
    "Те же операции что и выше проводим для того чтобы узнать залоги, так как залог может быть только в bETH или только в bLuna добавляеv if, при помощи которого разделяем эти случаи "
   ]
  },
  {
   "cell_type": "code",
   "execution_count": 5,
   "id": "21469c46",
   "metadata": {
    "scrolled": false
   },
   "outputs": [],
   "source": [
    "initial_collateral_query=query.contract_query(ANCHOR_OVERSEER,{\"all_collaterals\": { }})[\"all_collaterals\"]\n",
    "collaterals_list =[]\n",
    "for x in range(len(initial_collateral_query)):\n",
    "    if len(initial_collateral_query[x]['collaterals']) > 1:\n",
    "        collaterals_list.append({'wallet_id':initial_collateral_query[x]['borrower'],initial_collateral_query[x]['collaterals'][0][0]:initial_collateral_query[x]['collaterals'][0][1],\n",
    "                                 initial_collateral_query[x]['collaterals'][1][0]:initial_collateral_query[x]['collaterals'][1][1]})\n",
    "    else:\n",
    "        collaterals_list.append({'wallet_id':initial_collateral_query[x]['borrower'],initial_collateral_query[x]['collaterals'][0][0]:initial_collateral_query[x]['collaterals'][0][1]})\n"
   ]
  },
  {
   "cell_type": "code",
   "execution_count": 6,
   "id": "7ee8e69d",
   "metadata": {
    "scrolled": true
   },
   "outputs": [],
   "source": [
    "support_cycle_collateral_query=initial_collateral_query\n",
    "counter = 0\n",
    "while counter < 100:\n",
    "    cycle_collateral_query=query.contract_query(ANCHOR_OVERSEER,{\"all_collaterals\": {\"start_after\":support_cycle_collateral_query[9]['borrower']}})[\"all_collaterals\"]\n",
    "    for x in range(len(cycle_collateral_query)):\n",
    "        if len(cycle_collateral_query[x]['collaterals']) > 1:\n",
    "            collaterals_list.append({'wallet_id':cycle_collateral_query[x]['borrower'],cycle_collateral_query[x]['collaterals'][0][0]:cycle_collateral_query[x]['collaterals'][0][1],\n",
    "                                 cycle_collateral_query[x]['collaterals'][1][0]:cycle_collateral_query[x]['collaterals'][1][1]})\n",
    "        else:\n",
    "            collaterals_list.append({'wallet_id':cycle_collateral_query[x]['borrower'],cycle_collateral_query[x]['collaterals'][0][0]:cycle_collateral_query[x]['collaterals'][0][1]})\n",
    "    support_cycle_collateral_query = cycle_collateral_query\n",
    "    counter+=1\n"
   ]
  },
  {
   "cell_type": "markdown",
   "id": "93d37c5d",
   "metadata": {},
   "source": [
    "Теперь из двух полученных массивов создаем таблицы (при этом меняем заголовки у залогов, чтобы они были понятны)"
   ]
  },
  {
   "cell_type": "code",
   "execution_count": 7,
   "id": "c9a661d0",
   "metadata": {
    "scrolled": false
   },
   "outputs": [],
   "source": [
    "loan_table=pd.DataFrame(loans_list)\n",
    "collateral_table = pd.DataFrame(collaterals_list)\n",
    "bAssets={'wallet_id':'wallet_id','terra1kc87mu460fwkqte29rquh4hc20m54fxwtsx7gp':'bLuna','terra1dzhzukyezv0etz22ud940z7adyv7xgcjkahuun':'bETH'}\n",
    "collateral_table.rename(columns=bAssets, inplace=True)\n"
   ]
  },
  {
   "cell_type": "markdown",
   "id": "dacf0027",
   "metadata": {},
   "source": [
    "И затем совмещаем 2 полученные таблицы "
   ]
  },
  {
   "cell_type": "code",
   "execution_count": 8,
   "id": "837223d0",
   "metadata": {
    "scrolled": true
   },
   "outputs": [],
   "source": [
    "result_table = loan_table.merge(collateral_table, on='wallet_id',how='left')   \n"
   ]
  },
  {
   "cell_type": "markdown",
   "id": "818370be",
   "metadata": {},
   "source": [
    "Теперь чтобы вычислить LTV необходимо свести все к единой величине, получаем текущий курс bETH и bLuna в UST из anchor oracle"
   ]
  },
  {
   "cell_type": "code",
   "execution_count": 9,
   "id": "deb96f99",
   "metadata": {},
   "outputs": [],
   "source": [
    "ANCHOR_ORACLE = 'terra1cgg6yef7qcdm070qftghfulaxmllgmvk77nc7t'\n",
    "\n",
    "bLuna_price=query.contract_query(ANCHOR_ORACLE,{\"price\": {\"base\":'terra1kc87mu460fwkqte29rquh4hc20m54fxwtsx7gp',\"quote\": \"uusd\" }})['rate']\n",
    "bETH_price=query.contract_query(ANCHOR_ORACLE,{\"price\": {\"base\":'terra1dzhzukyezv0etz22ud940z7adyv7xgcjkahuun',\"quote\": \"uusd\" }})['rate']\n",
    "              "
   ]
  },
  {
   "cell_type": "markdown",
   "id": "4495bb0d",
   "metadata": {},
   "source": [
    "Теперь меняем типы данных, чтобы появилась возможность умножать столбцы и деноминируем активы\n"
   ]
  },
  {
   "cell_type": "code",
   "execution_count": 10,
   "id": "97f5d853",
   "metadata": {
    "scrolled": false
   },
   "outputs": [],
   "source": [
    "result_table['UST_loan']=pd.to_numeric(result_table['UST_loan'],errors=\"coerce\").fillna(0)/1000000\n",
    "result_table['bLuna']=pd.to_numeric(result_table['bLuna'],errors=\"coerce\").fillna(0)/1000000\n",
    "result_table['bETH']=pd.to_numeric(result_table['bETH'],errors=\"coerce\").fillna(0)/1000000\n"
   ]
  },
  {
   "cell_type": "markdown",
   "id": "8c2cf407",
   "metadata": {},
   "source": [
    "И добавляем новые столбцы с вычислениями"
   ]
  },
  {
   "cell_type": "code",
   "execution_count": 11,
   "id": "bcf0db4b",
   "metadata": {
    "scrolled": true
   },
   "outputs": [],
   "source": [
    "result_table['bLuna_denom']=result_table['bLuna']*int(float(bLuna_price))\n",
    "result_table['bETH_denom']=result_table['bETH']*int(float(bETH_price))\n",
    "result_table['denom_collateral']=result_table['bLuna_denom']+result_table['bETH_denom']\n",
    "result_table['ltv'] = (result_table['UST_loan']/result_table['denom_collateral']).fillna(0)\n",
    "result_table.replace(np.inf, 0, inplace = True)"
   ]
  },
  {
   "cell_type": "markdown",
   "id": "e6090f08",
   "metadata": {},
   "source": [
    "В итоге получается вот такая таблицы "
   ]
  },
  {
   "cell_type": "code",
   "execution_count": 12,
   "id": "1a8f703c",
   "metadata": {
    "scrolled": true
   },
   "outputs": [
    {
     "name": "stdout",
     "output_type": "stream",
     "text": [
      "<class 'pandas.core.frame.DataFrame'>\n",
      "Int64Index: 1010 entries, 0 to 1009\n",
      "Data columns (total 8 columns):\n",
      " #   Column            Non-Null Count  Dtype  \n",
      "---  ------            --------------  -----  \n",
      " 0   wallet_id         1010 non-null   object \n",
      " 1   UST_loan          1010 non-null   float64\n",
      " 2   bLuna             1010 non-null   float64\n",
      " 3   bETH              1010 non-null   float64\n",
      " 4   bLuna_denom       1010 non-null   float64\n",
      " 5   bETH_denom        1010 non-null   float64\n",
      " 6   denom_collateral  1010 non-null   float64\n",
      " 7   ltv               1010 non-null   float64\n",
      "dtypes: float64(7), object(1)\n",
      "memory usage: 71.0+ KB\n"
     ]
    },
    {
     "data": {
      "text/html": [
       "<div>\n",
       "<style scoped>\n",
       "    .dataframe tbody tr th:only-of-type {\n",
       "        vertical-align: middle;\n",
       "    }\n",
       "\n",
       "    .dataframe tbody tr th {\n",
       "        vertical-align: top;\n",
       "    }\n",
       "\n",
       "    .dataframe thead th {\n",
       "        text-align: right;\n",
       "    }\n",
       "</style>\n",
       "<table border=\"1\" class=\"dataframe\">\n",
       "  <thead>\n",
       "    <tr style=\"text-align: right;\">\n",
       "      <th></th>\n",
       "      <th>wallet_id</th>\n",
       "      <th>UST_loan</th>\n",
       "      <th>bLuna</th>\n",
       "      <th>bETH</th>\n",
       "      <th>bLuna_denom</th>\n",
       "      <th>bETH_denom</th>\n",
       "      <th>denom_collateral</th>\n",
       "      <th>ltv</th>\n",
       "    </tr>\n",
       "  </thead>\n",
       "  <tbody>\n",
       "    <tr>\n",
       "      <th>0</th>\n",
       "      <td>terra1qqqz5f2l5epfft7l08wvp8qddhtapk437fy07t</td>\n",
       "      <td>0.000000</td>\n",
       "      <td>0.000000</td>\n",
       "      <td>0.000000</td>\n",
       "      <td>0.000000</td>\n",
       "      <td>0.000000</td>\n",
       "      <td>0.000000</td>\n",
       "      <td>0.000000</td>\n",
       "    </tr>\n",
       "    <tr>\n",
       "      <th>1</th>\n",
       "      <td>terra1qqrqtl8uvn7mfre0vxdxvczjv663zmc9q9g363</td>\n",
       "      <td>0.000304</td>\n",
       "      <td>0.000019</td>\n",
       "      <td>0.000000</td>\n",
       "      <td>0.000551</td>\n",
       "      <td>0.000000</td>\n",
       "      <td>0.000551</td>\n",
       "      <td>0.551724</td>\n",
       "    </tr>\n",
       "    <tr>\n",
       "      <th>2</th>\n",
       "      <td>terra1qq8xq768s79al0espc9l68pza2gty67jl9lfsy</td>\n",
       "      <td>0.000000</td>\n",
       "      <td>0.000000</td>\n",
       "      <td>0.000000</td>\n",
       "      <td>0.000000</td>\n",
       "      <td>0.000000</td>\n",
       "      <td>0.000000</td>\n",
       "      <td>0.000000</td>\n",
       "    </tr>\n",
       "    <tr>\n",
       "      <th>3</th>\n",
       "      <td>terra1qq8x3ufxkk8lxwq93zp37qlcmeqm7fyv442qus</td>\n",
       "      <td>0.000000</td>\n",
       "      <td>0.000000</td>\n",
       "      <td>0.000000</td>\n",
       "      <td>0.000000</td>\n",
       "      <td>0.000000</td>\n",
       "      <td>0.000000</td>\n",
       "      <td>0.000000</td>\n",
       "    </tr>\n",
       "    <tr>\n",
       "      <th>4</th>\n",
       "      <td>terra1qq8k59w5erp56xemr2qmxy8jys77r3wmnk4phx</td>\n",
       "      <td>50.000000</td>\n",
       "      <td>4.999964</td>\n",
       "      <td>0.000000</td>\n",
       "      <td>144.998956</td>\n",
       "      <td>0.000000</td>\n",
       "      <td>144.998956</td>\n",
       "      <td>0.344830</td>\n",
       "    </tr>\n",
       "    <tr>\n",
       "      <th>5</th>\n",
       "      <td>terra1qqd04e9fte2sshm3uy7q5sux6wm34hyguprjtl</td>\n",
       "      <td>0.000000</td>\n",
       "      <td>0.000000</td>\n",
       "      <td>0.000000</td>\n",
       "      <td>0.000000</td>\n",
       "      <td>0.000000</td>\n",
       "      <td>0.000000</td>\n",
       "      <td>0.000000</td>\n",
       "    </tr>\n",
       "    <tr>\n",
       "      <th>6</th>\n",
       "      <td>terra1qq0pm5wgdnanwzldt3seng0tw4yvz569l3d2hv</td>\n",
       "      <td>0.000913</td>\n",
       "      <td>0.000329</td>\n",
       "      <td>0.000000</td>\n",
       "      <td>0.009541</td>\n",
       "      <td>0.000000</td>\n",
       "      <td>0.009541</td>\n",
       "      <td>0.095692</td>\n",
       "    </tr>\n",
       "    <tr>\n",
       "      <th>7</th>\n",
       "      <td>terra1qqj02enhq8ved0un4jp2mx09qghpxvu6yvgvaa</td>\n",
       "      <td>0.000000</td>\n",
       "      <td>0.224398</td>\n",
       "      <td>0.000000</td>\n",
       "      <td>6.507542</td>\n",
       "      <td>0.000000</td>\n",
       "      <td>6.507542</td>\n",
       "      <td>0.000000</td>\n",
       "    </tr>\n",
       "    <tr>\n",
       "      <th>8</th>\n",
       "      <td>terra1qqnakv6hd2jdtaykza298kqsahnwys5uvrlkd7</td>\n",
       "      <td>10113.578013</td>\n",
       "      <td>277.453628</td>\n",
       "      <td>5.099999</td>\n",
       "      <td>8046.155212</td>\n",
       "      <td>15356.096989</td>\n",
       "      <td>23402.252201</td>\n",
       "      <td>0.432163</td>\n",
       "    </tr>\n",
       "    <tr>\n",
       "      <th>9</th>\n",
       "      <td>terra1qq5xwmkyxnjpjmvyhldhe405e2hhfl55weza8g</td>\n",
       "      <td>0.176235</td>\n",
       "      <td>0.092611</td>\n",
       "      <td>0.000000</td>\n",
       "      <td>2.685719</td>\n",
       "      <td>0.000000</td>\n",
       "      <td>2.685719</td>\n",
       "      <td>0.065619</td>\n",
       "    </tr>\n",
       "  </tbody>\n",
       "</table>\n",
       "</div>"
      ],
      "text/plain": [
       "                                      wallet_id      UST_loan       bLuna  \\\n",
       "0  terra1qqqz5f2l5epfft7l08wvp8qddhtapk437fy07t      0.000000    0.000000   \n",
       "1  terra1qqrqtl8uvn7mfre0vxdxvczjv663zmc9q9g363      0.000304    0.000019   \n",
       "2  terra1qq8xq768s79al0espc9l68pza2gty67jl9lfsy      0.000000    0.000000   \n",
       "3  terra1qq8x3ufxkk8lxwq93zp37qlcmeqm7fyv442qus      0.000000    0.000000   \n",
       "4  terra1qq8k59w5erp56xemr2qmxy8jys77r3wmnk4phx     50.000000    4.999964   \n",
       "5  terra1qqd04e9fte2sshm3uy7q5sux6wm34hyguprjtl      0.000000    0.000000   \n",
       "6  terra1qq0pm5wgdnanwzldt3seng0tw4yvz569l3d2hv      0.000913    0.000329   \n",
       "7  terra1qqj02enhq8ved0un4jp2mx09qghpxvu6yvgvaa      0.000000    0.224398   \n",
       "8  terra1qqnakv6hd2jdtaykza298kqsahnwys5uvrlkd7  10113.578013  277.453628   \n",
       "9  terra1qq5xwmkyxnjpjmvyhldhe405e2hhfl55weza8g      0.176235    0.092611   \n",
       "\n",
       "       bETH  bLuna_denom    bETH_denom  denom_collateral       ltv  \n",
       "0  0.000000     0.000000      0.000000          0.000000  0.000000  \n",
       "1  0.000000     0.000551      0.000000          0.000551  0.551724  \n",
       "2  0.000000     0.000000      0.000000          0.000000  0.000000  \n",
       "3  0.000000     0.000000      0.000000          0.000000  0.000000  \n",
       "4  0.000000   144.998956      0.000000        144.998956  0.344830  \n",
       "5  0.000000     0.000000      0.000000          0.000000  0.000000  \n",
       "6  0.000000     0.009541      0.000000          0.009541  0.095692  \n",
       "7  0.000000     6.507542      0.000000          6.507542  0.000000  \n",
       "8  5.099999  8046.155212  15356.096989      23402.252201  0.432163  \n",
       "9  0.000000     2.685719      0.000000          2.685719  0.065619  "
      ]
     },
     "execution_count": 12,
     "metadata": {},
     "output_type": "execute_result"
    }
   ],
   "source": [
    "result_table.info()\n",
    "result_table.head(10)\n"
   ]
  },
  {
   "cell_type": "markdown",
   "id": "a92e516e",
   "metadata": {},
   "source": [
    "И затем сохраняем результат (путь пока абсолютный, в будущем надо сделать это параметром API)"
   ]
  },
  {
   "cell_type": "code",
   "execution_count": 13,
   "id": "13285be0",
   "metadata": {},
   "outputs": [],
   "source": [
    "result_table.to_excel(r\"D:\\Program Files (x86)\\PythonProjects\\result\\result_table.xlsx\", index=False)"
   ]
  },
  {
   "cell_type": "code",
   "execution_count": null,
   "id": "ace1b038",
   "metadata": {},
   "outputs": [],
   "source": []
  }
 ],
 "metadata": {
  "kernelspec": {
   "display_name": "Python 3 (ipykernel)",
   "language": "python",
   "name": "python3"
  },
  "language_info": {
   "codemirror_mode": {
    "name": "ipython",
    "version": 3
   },
   "file_extension": ".py",
   "mimetype": "text/x-python",
   "name": "python",
   "nbconvert_exporter": "python",
   "pygments_lexer": "ipython3",
   "version": "3.9.2"
  }
 },
 "nbformat": 4,
 "nbformat_minor": 5
}
